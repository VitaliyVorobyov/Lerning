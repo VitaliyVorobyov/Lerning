{
 "cells": [
  {
   "cell_type": "code",
   "execution_count": 7,
   "id": "915b3d6f",
   "metadata": {},
   "outputs": [],
   "source": [
    "import pandas as pd\n",
    "import numpy as np\n",
    "import scipy.stats as st \n",
    "import matplotlib.pyplot as plt\n",
    "import seaborn as sns"
   ]
  },
  {
   "cell_type": "code",
   "execution_count": 20,
   "id": "56201903",
   "metadata": {},
   "outputs": [],
   "source": [
    "hr = pd.read_csv('HR.csv')"
   ]
  },
  {
   "cell_type": "markdown",
   "id": "18e9b9e9",
   "metadata": {},
   "source": [
    "1. satisfaction_level - Уровень удовлетворенности работой\n",
    "2. Last_evaluation - Время с момента последней оценки в годах\n",
    "3. number_projects - Количество проектов, выполненных за время работы\n",
    "4. average_monthly_hours - Среднее количество часов на рабочем месте в месяц\n",
    "5. time_spend_company - Стаж работы в компании в годах\n",
    "6. work_accident - Происходили ли несчастные случаи на рабочем месте с сотрудником\n",
    "7. left - уволился ли сотрудник\n",
    "8. promotion_last_5years - повышался ли сотрудник за последние пять лет\n",
    "9. department - отдел в котором работает сотрудник\n",
    "10. salary - относительный уровень зарплаты"
   ]
  },
  {
   "cell_type": "code",
   "execution_count": 21,
   "id": "42cca520",
   "metadata": {},
   "outputs": [
    {
     "data": {
      "text/html": [
       "<div>\n",
       "<style scoped>\n",
       "    .dataframe tbody tr th:only-of-type {\n",
       "        vertical-align: middle;\n",
       "    }\n",
       "\n",
       "    .dataframe tbody tr th {\n",
       "        vertical-align: top;\n",
       "    }\n",
       "\n",
       "    .dataframe thead th {\n",
       "        text-align: right;\n",
       "    }\n",
       "</style>\n",
       "<table border=\"1\" class=\"dataframe\">\n",
       "  <thead>\n",
       "    <tr style=\"text-align: right;\">\n",
       "      <th></th>\n",
       "      <th>satisfaction_level</th>\n",
       "      <th>last_evaluation</th>\n",
       "      <th>number_project</th>\n",
       "      <th>average_montly_hours</th>\n",
       "      <th>time_spend_company</th>\n",
       "      <th>Work_accident</th>\n",
       "      <th>left</th>\n",
       "      <th>promotion_last_5years</th>\n",
       "      <th>department</th>\n",
       "      <th>salary</th>\n",
       "    </tr>\n",
       "  </thead>\n",
       "  <tbody>\n",
       "    <tr>\n",
       "      <th>0</th>\n",
       "      <td>0.38</td>\n",
       "      <td>0.53</td>\n",
       "      <td>2</td>\n",
       "      <td>157</td>\n",
       "      <td>3</td>\n",
       "      <td>0</td>\n",
       "      <td>1</td>\n",
       "      <td>0</td>\n",
       "      <td>sales</td>\n",
       "      <td>low</td>\n",
       "    </tr>\n",
       "    <tr>\n",
       "      <th>1</th>\n",
       "      <td>0.80</td>\n",
       "      <td>0.86</td>\n",
       "      <td>5</td>\n",
       "      <td>262</td>\n",
       "      <td>6</td>\n",
       "      <td>0</td>\n",
       "      <td>1</td>\n",
       "      <td>0</td>\n",
       "      <td>sales</td>\n",
       "      <td>medium</td>\n",
       "    </tr>\n",
       "    <tr>\n",
       "      <th>2</th>\n",
       "      <td>0.11</td>\n",
       "      <td>0.88</td>\n",
       "      <td>7</td>\n",
       "      <td>272</td>\n",
       "      <td>4</td>\n",
       "      <td>0</td>\n",
       "      <td>1</td>\n",
       "      <td>0</td>\n",
       "      <td>sales</td>\n",
       "      <td>medium</td>\n",
       "    </tr>\n",
       "    <tr>\n",
       "      <th>3</th>\n",
       "      <td>0.72</td>\n",
       "      <td>0.87</td>\n",
       "      <td>5</td>\n",
       "      <td>223</td>\n",
       "      <td>5</td>\n",
       "      <td>0</td>\n",
       "      <td>1</td>\n",
       "      <td>0</td>\n",
       "      <td>sales</td>\n",
       "      <td>low</td>\n",
       "    </tr>\n",
       "    <tr>\n",
       "      <th>4</th>\n",
       "      <td>0.37</td>\n",
       "      <td>0.52</td>\n",
       "      <td>2</td>\n",
       "      <td>159</td>\n",
       "      <td>3</td>\n",
       "      <td>0</td>\n",
       "      <td>1</td>\n",
       "      <td>0</td>\n",
       "      <td>sales</td>\n",
       "      <td>low</td>\n",
       "    </tr>\n",
       "    <tr>\n",
       "      <th>...</th>\n",
       "      <td>...</td>\n",
       "      <td>...</td>\n",
       "      <td>...</td>\n",
       "      <td>...</td>\n",
       "      <td>...</td>\n",
       "      <td>...</td>\n",
       "      <td>...</td>\n",
       "      <td>...</td>\n",
       "      <td>...</td>\n",
       "      <td>...</td>\n",
       "    </tr>\n",
       "    <tr>\n",
       "      <th>14994</th>\n",
       "      <td>0.40</td>\n",
       "      <td>0.57</td>\n",
       "      <td>2</td>\n",
       "      <td>151</td>\n",
       "      <td>3</td>\n",
       "      <td>0</td>\n",
       "      <td>1</td>\n",
       "      <td>0</td>\n",
       "      <td>support</td>\n",
       "      <td>low</td>\n",
       "    </tr>\n",
       "    <tr>\n",
       "      <th>14995</th>\n",
       "      <td>0.37</td>\n",
       "      <td>0.48</td>\n",
       "      <td>2</td>\n",
       "      <td>160</td>\n",
       "      <td>3</td>\n",
       "      <td>0</td>\n",
       "      <td>1</td>\n",
       "      <td>0</td>\n",
       "      <td>support</td>\n",
       "      <td>low</td>\n",
       "    </tr>\n",
       "    <tr>\n",
       "      <th>14996</th>\n",
       "      <td>0.37</td>\n",
       "      <td>0.53</td>\n",
       "      <td>2</td>\n",
       "      <td>143</td>\n",
       "      <td>3</td>\n",
       "      <td>0</td>\n",
       "      <td>1</td>\n",
       "      <td>0</td>\n",
       "      <td>support</td>\n",
       "      <td>low</td>\n",
       "    </tr>\n",
       "    <tr>\n",
       "      <th>14997</th>\n",
       "      <td>0.11</td>\n",
       "      <td>0.96</td>\n",
       "      <td>6</td>\n",
       "      <td>280</td>\n",
       "      <td>4</td>\n",
       "      <td>0</td>\n",
       "      <td>1</td>\n",
       "      <td>0</td>\n",
       "      <td>support</td>\n",
       "      <td>low</td>\n",
       "    </tr>\n",
       "    <tr>\n",
       "      <th>14998</th>\n",
       "      <td>0.37</td>\n",
       "      <td>0.52</td>\n",
       "      <td>2</td>\n",
       "      <td>158</td>\n",
       "      <td>3</td>\n",
       "      <td>0</td>\n",
       "      <td>1</td>\n",
       "      <td>0</td>\n",
       "      <td>support</td>\n",
       "      <td>low</td>\n",
       "    </tr>\n",
       "  </tbody>\n",
       "</table>\n",
       "<p>14999 rows × 10 columns</p>\n",
       "</div>"
      ],
      "text/plain": [
       "       satisfaction_level  last_evaluation  number_project  \\\n",
       "0                    0.38             0.53               2   \n",
       "1                    0.80             0.86               5   \n",
       "2                    0.11             0.88               7   \n",
       "3                    0.72             0.87               5   \n",
       "4                    0.37             0.52               2   \n",
       "...                   ...              ...             ...   \n",
       "14994                0.40             0.57               2   \n",
       "14995                0.37             0.48               2   \n",
       "14996                0.37             0.53               2   \n",
       "14997                0.11             0.96               6   \n",
       "14998                0.37             0.52               2   \n",
       "\n",
       "       average_montly_hours  time_spend_company  Work_accident  left  \\\n",
       "0                       157                   3              0     1   \n",
       "1                       262                   6              0     1   \n",
       "2                       272                   4              0     1   \n",
       "3                       223                   5              0     1   \n",
       "4                       159                   3              0     1   \n",
       "...                     ...                 ...            ...   ...   \n",
       "14994                   151                   3              0     1   \n",
       "14995                   160                   3              0     1   \n",
       "14996                   143                   3              0     1   \n",
       "14997                   280                   4              0     1   \n",
       "14998                   158                   3              0     1   \n",
       "\n",
       "       promotion_last_5years department  salary  \n",
       "0                          0      sales     low  \n",
       "1                          0      sales  medium  \n",
       "2                          0      sales  medium  \n",
       "3                          0      sales     low  \n",
       "4                          0      sales     low  \n",
       "...                      ...        ...     ...  \n",
       "14994                      0    support     low  \n",
       "14995                      0    support     low  \n",
       "14996                      0    support     low  \n",
       "14997                      0    support     low  \n",
       "14998                      0    support     low  \n",
       "\n",
       "[14999 rows x 10 columns]"
      ]
     },
     "execution_count": 21,
     "metadata": {},
     "output_type": "execute_result"
    }
   ],
   "source": [
    "hr"
   ]
  },
  {
   "cell_type": "code",
   "execution_count": 22,
   "id": "9982fd22",
   "metadata": {},
   "outputs": [
    {
     "name": "stdout",
     "output_type": "stream",
     "text": [
      "<class 'pandas.core.frame.DataFrame'>\n",
      "RangeIndex: 14999 entries, 0 to 14998\n",
      "Data columns (total 10 columns):\n",
      " #   Column                 Non-Null Count  Dtype  \n",
      "---  ------                 --------------  -----  \n",
      " 0   satisfaction_level     14999 non-null  float64\n",
      " 1   last_evaluation        14999 non-null  float64\n",
      " 2   number_project         14999 non-null  int64  \n",
      " 3   average_montly_hours   14999 non-null  int64  \n",
      " 4   time_spend_company     14999 non-null  int64  \n",
      " 5   Work_accident          14999 non-null  int64  \n",
      " 6   left                   14999 non-null  int64  \n",
      " 7   promotion_last_5years  14999 non-null  int64  \n",
      " 8   department             14999 non-null  object \n",
      " 9   salary                 14999 non-null  object \n",
      "dtypes: float64(2), int64(6), object(2)\n",
      "memory usage: 1.1+ MB\n"
     ]
    }
   ],
   "source": [
    "hr.info()"
   ]
  },
  {
   "cell_type": "code",
   "execution_count": 23,
   "id": "38ecb956",
   "metadata": {
    "scrolled": true
   },
   "outputs": [
    {
     "data": {
      "text/plain": [
       "Index(['satisfaction_level', 'last_evaluation', 'number_project',\n",
       "       'average_montly_hours', 'time_spend_company', 'Work_accident', 'left',\n",
       "       'promotion_last_5years', 'department', 'salary'],\n",
       "      dtype='object')"
      ]
     },
     "execution_count": 23,
     "metadata": {},
     "output_type": "execute_result"
    }
   ],
   "source": [
    "hr.columns"
   ]
  },
  {
   "cell_type": "markdown",
   "id": "ec9bfba0",
   "metadata": {},
   "source": [
    "Расчет базовых статистик для количественных данных:"
   ]
  },
  {
   "cell_type": "code",
   "execution_count": 24,
   "id": "fca338bb",
   "metadata": {
    "scrolled": true
   },
   "outputs": [
    {
     "data": {
      "text/html": [
       "<div>\n",
       "<style scoped>\n",
       "    .dataframe tbody tr th:only-of-type {\n",
       "        vertical-align: middle;\n",
       "    }\n",
       "\n",
       "    .dataframe tbody tr th {\n",
       "        vertical-align: top;\n",
       "    }\n",
       "\n",
       "    .dataframe thead th {\n",
       "        text-align: right;\n",
       "    }\n",
       "</style>\n",
       "<table border=\"1\" class=\"dataframe\">\n",
       "  <thead>\n",
       "    <tr style=\"text-align: right;\">\n",
       "      <th></th>\n",
       "      <th>satisfaction_level</th>\n",
       "      <th>last_evaluation</th>\n",
       "      <th>number_project</th>\n",
       "      <th>average_montly_hours</th>\n",
       "      <th>time_spend_company</th>\n",
       "    </tr>\n",
       "  </thead>\n",
       "  <tbody>\n",
       "    <tr>\n",
       "      <th>count</th>\n",
       "      <td>14999.000000</td>\n",
       "      <td>14999.000000</td>\n",
       "      <td>14999.000000</td>\n",
       "      <td>14999.000000</td>\n",
       "      <td>14999.000000</td>\n",
       "    </tr>\n",
       "    <tr>\n",
       "      <th>mean</th>\n",
       "      <td>0.612834</td>\n",
       "      <td>0.716102</td>\n",
       "      <td>3.803054</td>\n",
       "      <td>201.050337</td>\n",
       "      <td>3.498233</td>\n",
       "    </tr>\n",
       "    <tr>\n",
       "      <th>std</th>\n",
       "      <td>0.248631</td>\n",
       "      <td>0.171169</td>\n",
       "      <td>1.232592</td>\n",
       "      <td>49.943099</td>\n",
       "      <td>1.460136</td>\n",
       "    </tr>\n",
       "    <tr>\n",
       "      <th>min</th>\n",
       "      <td>0.090000</td>\n",
       "      <td>0.360000</td>\n",
       "      <td>2.000000</td>\n",
       "      <td>96.000000</td>\n",
       "      <td>2.000000</td>\n",
       "    </tr>\n",
       "    <tr>\n",
       "      <th>25%</th>\n",
       "      <td>0.440000</td>\n",
       "      <td>0.560000</td>\n",
       "      <td>3.000000</td>\n",
       "      <td>156.000000</td>\n",
       "      <td>3.000000</td>\n",
       "    </tr>\n",
       "    <tr>\n",
       "      <th>50%</th>\n",
       "      <td>0.640000</td>\n",
       "      <td>0.720000</td>\n",
       "      <td>4.000000</td>\n",
       "      <td>200.000000</td>\n",
       "      <td>3.000000</td>\n",
       "    </tr>\n",
       "    <tr>\n",
       "      <th>75%</th>\n",
       "      <td>0.820000</td>\n",
       "      <td>0.870000</td>\n",
       "      <td>5.000000</td>\n",
       "      <td>245.000000</td>\n",
       "      <td>4.000000</td>\n",
       "    </tr>\n",
       "    <tr>\n",
       "      <th>max</th>\n",
       "      <td>1.000000</td>\n",
       "      <td>1.000000</td>\n",
       "      <td>7.000000</td>\n",
       "      <td>310.000000</td>\n",
       "      <td>10.000000</td>\n",
       "    </tr>\n",
       "  </tbody>\n",
       "</table>\n",
       "</div>"
      ],
      "text/plain": [
       "       satisfaction_level  last_evaluation  number_project  \\\n",
       "count        14999.000000     14999.000000    14999.000000   \n",
       "mean             0.612834         0.716102        3.803054   \n",
       "std              0.248631         0.171169        1.232592   \n",
       "min              0.090000         0.360000        2.000000   \n",
       "25%              0.440000         0.560000        3.000000   \n",
       "50%              0.640000         0.720000        4.000000   \n",
       "75%              0.820000         0.870000        5.000000   \n",
       "max              1.000000         1.000000        7.000000   \n",
       "\n",
       "       average_montly_hours  time_spend_company  \n",
       "count          14999.000000        14999.000000  \n",
       "mean             201.050337            3.498233  \n",
       "std               49.943099            1.460136  \n",
       "min               96.000000            2.000000  \n",
       "25%              156.000000            3.000000  \n",
       "50%              200.000000            3.000000  \n",
       "75%              245.000000            4.000000  \n",
       "max              310.000000           10.000000  "
      ]
     },
     "execution_count": 24,
     "metadata": {},
     "output_type": "execute_result"
    }
   ],
   "source": [
    "hr[['satisfaction_level', 'last_evaluation', 'number_project',\n",
    "       'average_montly_hours', 'time_spend_company']].describe()"
   ]
  },
  {
   "cell_type": "code",
   "execution_count": 25,
   "id": "babbf469",
   "metadata": {},
   "outputs": [
    {
     "data": {
      "text/html": [
       "<div>\n",
       "<style scoped>\n",
       "    .dataframe tbody tr th:only-of-type {\n",
       "        vertical-align: middle;\n",
       "    }\n",
       "\n",
       "    .dataframe tbody tr th {\n",
       "        vertical-align: top;\n",
       "    }\n",
       "\n",
       "    .dataframe thead th {\n",
       "        text-align: right;\n",
       "    }\n",
       "</style>\n",
       "<table border=\"1\" class=\"dataframe\">\n",
       "  <thead>\n",
       "    <tr style=\"text-align: right;\">\n",
       "      <th></th>\n",
       "      <th>satisfaction_level</th>\n",
       "      <th>last_evaluation</th>\n",
       "      <th>number_project</th>\n",
       "      <th>average_montly_hours</th>\n",
       "      <th>time_spend_company</th>\n",
       "    </tr>\n",
       "  </thead>\n",
       "  <tbody>\n",
       "    <tr>\n",
       "      <th>0</th>\n",
       "      <td>0.1</td>\n",
       "      <td>0.55</td>\n",
       "      <td>4.0</td>\n",
       "      <td>135</td>\n",
       "      <td>3.0</td>\n",
       "    </tr>\n",
       "    <tr>\n",
       "      <th>1</th>\n",
       "      <td>NaN</td>\n",
       "      <td>NaN</td>\n",
       "      <td>NaN</td>\n",
       "      <td>156</td>\n",
       "      <td>NaN</td>\n",
       "    </tr>\n",
       "  </tbody>\n",
       "</table>\n",
       "</div>"
      ],
      "text/plain": [
       "   satisfaction_level  last_evaluation  number_project  average_montly_hours  \\\n",
       "0                 0.1             0.55             4.0                   135   \n",
       "1                 NaN              NaN             NaN                   156   \n",
       "\n",
       "   time_spend_company  \n",
       "0                 3.0  \n",
       "1                 NaN  "
      ]
     },
     "execution_count": 25,
     "metadata": {},
     "output_type": "execute_result"
    }
   ],
   "source": [
    "#Расчет моды для количественных данных:\n",
    "hr[['satisfaction_level', 'last_evaluation', 'number_project',\n",
    "       'average_montly_hours', 'time_spend_company']].mode()"
   ]
  },
  {
   "cell_type": "markdown",
   "id": "22769f8b",
   "metadata": {},
   "source": [
    "Расчет базовых статистик для категориальных данных:"
   ]
  },
  {
   "cell_type": "code",
   "execution_count": 26,
   "id": "613b7ea7",
   "metadata": {},
   "outputs": [],
   "source": [
    "def category_count(hr):\n",
    "    \n",
    "    list_index = ['Work_accident', 'left', 'promotion_last_5years', 'department', 'salary']\n",
    "    list_columns = ['mode', 'count', 'percentage']\n",
    "    list_tuple = [(index_, unique) for index_ in list_index for unique in hr[index_].unique()]\n",
    "    index_multi = pd.MultiIndex.from_tuples(list_tuple, names=['columns', 'unique'])\n",
    "    category_hr = pd.DataFrame(index=index_multi, columns=list_columns) \n",
    "    \n",
    "    for i in category_hr.index:\n",
    "        for columns in list_index:\n",
    "            for mode in hr[columns].mode():\n",
    "                if i[0] == columns and i[1] == mode:\n",
    "                    category_hr.loc[i, 'mode'] = True\n",
    "                elif category_hr.loc[i, 'mode'] != True:\n",
    "                    category_hr.loc[i, 'mode'] = False\n",
    "            for count in hr[columns].value_counts().index:\n",
    "                if i[0] == columns and count == i[1]:\n",
    "                    category_hr.loc[i, 'count'] = hr[columns].value_counts()[count]\n",
    "                    category_hr.loc[i, 'percentage'] = round(hr[columns].value_counts(normalize=True)[count], 2)\n",
    "\n",
    "    return category_hr"
   ]
  },
  {
   "cell_type": "code",
   "execution_count": 27,
   "id": "61afbd79",
   "metadata": {},
   "outputs": [
    {
     "data": {
      "text/html": [
       "<div>\n",
       "<style scoped>\n",
       "    .dataframe tbody tr th:only-of-type {\n",
       "        vertical-align: middle;\n",
       "    }\n",
       "\n",
       "    .dataframe tbody tr th {\n",
       "        vertical-align: top;\n",
       "    }\n",
       "\n",
       "    .dataframe thead th {\n",
       "        text-align: right;\n",
       "    }\n",
       "</style>\n",
       "<table border=\"1\" class=\"dataframe\">\n",
       "  <thead>\n",
       "    <tr style=\"text-align: right;\">\n",
       "      <th></th>\n",
       "      <th></th>\n",
       "      <th>mode</th>\n",
       "      <th>count</th>\n",
       "      <th>percentage</th>\n",
       "    </tr>\n",
       "    <tr>\n",
       "      <th>columns</th>\n",
       "      <th>unique</th>\n",
       "      <th></th>\n",
       "      <th></th>\n",
       "      <th></th>\n",
       "    </tr>\n",
       "  </thead>\n",
       "  <tbody>\n",
       "    <tr>\n",
       "      <th rowspan=\"2\" valign=\"top\">Work_accident</th>\n",
       "      <th>0</th>\n",
       "      <td>True</td>\n",
       "      <td>12830</td>\n",
       "      <td>0.86</td>\n",
       "    </tr>\n",
       "    <tr>\n",
       "      <th>1</th>\n",
       "      <td>False</td>\n",
       "      <td>2169</td>\n",
       "      <td>0.14</td>\n",
       "    </tr>\n",
       "    <tr>\n",
       "      <th rowspan=\"2\" valign=\"top\">left</th>\n",
       "      <th>1</th>\n",
       "      <td>False</td>\n",
       "      <td>3571</td>\n",
       "      <td>0.24</td>\n",
       "    </tr>\n",
       "    <tr>\n",
       "      <th>0</th>\n",
       "      <td>True</td>\n",
       "      <td>11428</td>\n",
       "      <td>0.76</td>\n",
       "    </tr>\n",
       "    <tr>\n",
       "      <th rowspan=\"2\" valign=\"top\">promotion_last_5years</th>\n",
       "      <th>0</th>\n",
       "      <td>True</td>\n",
       "      <td>14680</td>\n",
       "      <td>0.98</td>\n",
       "    </tr>\n",
       "    <tr>\n",
       "      <th>1</th>\n",
       "      <td>False</td>\n",
       "      <td>319</td>\n",
       "      <td>0.02</td>\n",
       "    </tr>\n",
       "    <tr>\n",
       "      <th rowspan=\"10\" valign=\"top\">department</th>\n",
       "      <th>sales</th>\n",
       "      <td>True</td>\n",
       "      <td>4140</td>\n",
       "      <td>0.28</td>\n",
       "    </tr>\n",
       "    <tr>\n",
       "      <th>accounting</th>\n",
       "      <td>False</td>\n",
       "      <td>767</td>\n",
       "      <td>0.05</td>\n",
       "    </tr>\n",
       "    <tr>\n",
       "      <th>hr</th>\n",
       "      <td>False</td>\n",
       "      <td>739</td>\n",
       "      <td>0.05</td>\n",
       "    </tr>\n",
       "    <tr>\n",
       "      <th>technical</th>\n",
       "      <td>False</td>\n",
       "      <td>2720</td>\n",
       "      <td>0.18</td>\n",
       "    </tr>\n",
       "    <tr>\n",
       "      <th>support</th>\n",
       "      <td>False</td>\n",
       "      <td>2229</td>\n",
       "      <td>0.15</td>\n",
       "    </tr>\n",
       "    <tr>\n",
       "      <th>management</th>\n",
       "      <td>False</td>\n",
       "      <td>630</td>\n",
       "      <td>0.04</td>\n",
       "    </tr>\n",
       "    <tr>\n",
       "      <th>IT</th>\n",
       "      <td>False</td>\n",
       "      <td>1227</td>\n",
       "      <td>0.08</td>\n",
       "    </tr>\n",
       "    <tr>\n",
       "      <th>product_mng</th>\n",
       "      <td>False</td>\n",
       "      <td>902</td>\n",
       "      <td>0.06</td>\n",
       "    </tr>\n",
       "    <tr>\n",
       "      <th>marketing</th>\n",
       "      <td>False</td>\n",
       "      <td>858</td>\n",
       "      <td>0.06</td>\n",
       "    </tr>\n",
       "    <tr>\n",
       "      <th>RandD</th>\n",
       "      <td>False</td>\n",
       "      <td>787</td>\n",
       "      <td>0.05</td>\n",
       "    </tr>\n",
       "    <tr>\n",
       "      <th rowspan=\"3\" valign=\"top\">salary</th>\n",
       "      <th>low</th>\n",
       "      <td>True</td>\n",
       "      <td>7316</td>\n",
       "      <td>0.49</td>\n",
       "    </tr>\n",
       "    <tr>\n",
       "      <th>medium</th>\n",
       "      <td>False</td>\n",
       "      <td>6446</td>\n",
       "      <td>0.43</td>\n",
       "    </tr>\n",
       "    <tr>\n",
       "      <th>high</th>\n",
       "      <td>False</td>\n",
       "      <td>1237</td>\n",
       "      <td>0.08</td>\n",
       "    </tr>\n",
       "  </tbody>\n",
       "</table>\n",
       "</div>"
      ],
      "text/plain": [
       "                                    mode  count percentage\n",
       "columns               unique                              \n",
       "Work_accident         0             True  12830       0.86\n",
       "                      1            False   2169       0.14\n",
       "left                  1            False   3571       0.24\n",
       "                      0             True  11428       0.76\n",
       "promotion_last_5years 0             True  14680       0.98\n",
       "                      1            False    319       0.02\n",
       "department            sales         True   4140       0.28\n",
       "                      accounting   False    767       0.05\n",
       "                      hr           False    739       0.05\n",
       "                      technical    False   2720       0.18\n",
       "                      support      False   2229       0.15\n",
       "                      management   False    630       0.04\n",
       "                      IT           False   1227       0.08\n",
       "                      product_mng  False    902       0.06\n",
       "                      marketing    False    858       0.06\n",
       "                      RandD        False    787       0.05\n",
       "salary                low           True   7316       0.49\n",
       "                      medium       False   6446       0.43\n",
       "                      high         False   1237       0.08"
      ]
     },
     "execution_count": 27,
     "metadata": {},
     "output_type": "execute_result"
    }
   ],
   "source": [
    "category_count(hr)"
   ]
  },
  {
   "cell_type": "markdown",
   "id": "682cf3c9",
   "metadata": {},
   "source": [
    "Расчет и визуализация корреляционной матрицы:"
   ]
  },
  {
   "cell_type": "code",
   "execution_count": 28,
   "id": "b6576a4c",
   "metadata": {},
   "outputs": [
    {
     "data": {
      "text/html": [
       "<div>\n",
       "<style scoped>\n",
       "    .dataframe tbody tr th:only-of-type {\n",
       "        vertical-align: middle;\n",
       "    }\n",
       "\n",
       "    .dataframe tbody tr th {\n",
       "        vertical-align: top;\n",
       "    }\n",
       "\n",
       "    .dataframe thead th {\n",
       "        text-align: right;\n",
       "    }\n",
       "</style>\n",
       "<table border=\"1\" class=\"dataframe\">\n",
       "  <thead>\n",
       "    <tr style=\"text-align: right;\">\n",
       "      <th></th>\n",
       "      <th>satisfaction_level</th>\n",
       "      <th>last_evaluation</th>\n",
       "      <th>number_project</th>\n",
       "      <th>average_montly_hours</th>\n",
       "      <th>time_spend_company</th>\n",
       "    </tr>\n",
       "  </thead>\n",
       "  <tbody>\n",
       "    <tr>\n",
       "      <th>satisfaction_level</th>\n",
       "      <td>1.000000</td>\n",
       "      <td>0.105021</td>\n",
       "      <td>-0.142970</td>\n",
       "      <td>-0.020048</td>\n",
       "      <td>-0.100866</td>\n",
       "    </tr>\n",
       "    <tr>\n",
       "      <th>last_evaluation</th>\n",
       "      <td>0.105021</td>\n",
       "      <td>1.000000</td>\n",
       "      <td>0.349333</td>\n",
       "      <td>0.339742</td>\n",
       "      <td>0.131591</td>\n",
       "    </tr>\n",
       "    <tr>\n",
       "      <th>number_project</th>\n",
       "      <td>-0.142970</td>\n",
       "      <td>0.349333</td>\n",
       "      <td>1.000000</td>\n",
       "      <td>0.417211</td>\n",
       "      <td>0.196786</td>\n",
       "    </tr>\n",
       "    <tr>\n",
       "      <th>average_montly_hours</th>\n",
       "      <td>-0.020048</td>\n",
       "      <td>0.339742</td>\n",
       "      <td>0.417211</td>\n",
       "      <td>1.000000</td>\n",
       "      <td>0.127755</td>\n",
       "    </tr>\n",
       "    <tr>\n",
       "      <th>time_spend_company</th>\n",
       "      <td>-0.100866</td>\n",
       "      <td>0.131591</td>\n",
       "      <td>0.196786</td>\n",
       "      <td>0.127755</td>\n",
       "      <td>1.000000</td>\n",
       "    </tr>\n",
       "  </tbody>\n",
       "</table>\n",
       "</div>"
      ],
      "text/plain": [
       "                      satisfaction_level  last_evaluation  number_project  \\\n",
       "satisfaction_level              1.000000         0.105021       -0.142970   \n",
       "last_evaluation                 0.105021         1.000000        0.349333   \n",
       "number_project                 -0.142970         0.349333        1.000000   \n",
       "average_montly_hours           -0.020048         0.339742        0.417211   \n",
       "time_spend_company             -0.100866         0.131591        0.196786   \n",
       "\n",
       "                      average_montly_hours  time_spend_company  \n",
       "satisfaction_level               -0.020048           -0.100866  \n",
       "last_evaluation                   0.339742            0.131591  \n",
       "number_project                    0.417211            0.196786  \n",
       "average_montly_hours              1.000000            0.127755  \n",
       "time_spend_company                0.127755            1.000000  "
      ]
     },
     "execution_count": 28,
     "metadata": {},
     "output_type": "execute_result"
    }
   ],
   "source": [
    "hr_corr = hr[['satisfaction_level', 'last_evaluation', 'number_project',\n",
    "       'average_montly_hours', 'time_spend_company']]\n",
    "hr_corr.corr()"
   ]
  },
  {
   "cell_type": "code",
   "execution_count": 29,
   "id": "915cae2d",
   "metadata": {},
   "outputs": [
    {
     "data": {
      "image/png": "[encoded data removed]",
      "text/plain": [
       "<Figure size 600x500 with 2 Axes>"
      ]
     },
     "metadata": {},
     "output_type": "display_data"
    }
   ],
   "source": [
    "plt.figure(figsize=(6, 5))\n",
    "sns.heatmap(hr_corr.corr(), annot=True, cmap='coolwarm')\n",
    "plt.title('Корреляционная матрица')\n",
    "plt.show()"
   ]
  },
  {
   "cell_type": "code",
   "execution_count": 30,
   "id": "a6381a0a",
   "metadata": {},
   "outputs": [],
   "source": [
    "def min_max(data):\n",
    "    df = data\n",
    "    max_ = 0\n",
    "    min_ = 1\n",
    "    x_max = None\n",
    "    y_max = None\n",
    "    x_min = None\n",
    "    y_min = None\n",
    "\n",
    "    for x in df.columns:\n",
    "        for y in df.index:\n",
    "            if np.abs(df.loc[df[x] < 1, x]).max() == np.abs(df.loc[y, x]):\n",
    "                if np.abs(df.loc[y, x]) > np.abs(max_):\n",
    "                    max_ = df.loc[y, x]\n",
    "                    x_max = x\n",
    "                    y_max = y\n",
    "            elif np.abs(df.loc[df[x] < 1 , x]).min() == np.abs(df.loc[y, x]):\n",
    "                if np.abs(df.loc[y, x]) < np.abs(min_):\n",
    "                    min_ = df.loc[y, x]\n",
    "                    x_min = x\n",
    "                    y_min = y\n",
    "    print(f\"Самые скоррелированные переменные - {x_max} и {y_max}\\nКоэфициент корреляциит- {round(max_, 3)}\\nНаименее скоррелированные переменные - {x_min} и {y_min}\\nКоэфициент корреляциит- {round(min_, 3)}\")\n",
    "    return max_, min_, x_max, y_max, x_min, y_min"
   ]
  },
  {
   "cell_type": "code",
   "execution_count": 31,
   "id": "238844ea",
   "metadata": {},
   "outputs": [
    {
     "name": "stdout",
     "output_type": "stream",
     "text": [
      "Самые скоррелированные переменные - number_project и average_montly_hours\n",
      "Коэфициент корреляциит- 0.417\n",
      "Наименее скоррелированные переменные - satisfaction_level и average_montly_hours\n",
      "Коэфициент корреляциит- -0.02\n"
     ]
    },
    {
     "data": {
      "text/plain": [
       "(0.41721063440177986,\n",
       " -0.020048113219472644,\n",
       " 'number_project',\n",
       " 'average_montly_hours',\n",
       " 'satisfaction_level',\n",
       " 'average_montly_hours')"
      ]
     },
     "execution_count": 31,
     "metadata": {},
     "output_type": "execute_result"
    }
   ],
   "source": [
    "min_max(hr_corr.corr())"
   ]
  },
  {
   "cell_type": "markdown",
   "id": "259a9994",
   "metadata": {},
   "source": [
    "Расчет количества работающих сотрудников в каждом департаменте:"
   ]
  },
  {
   "cell_type": "code",
   "execution_count": 32,
   "id": "1c63691e",
   "metadata": {},
   "outputs": [
    {
     "data": {
      "text/plain": [
       "sales          3126\n",
       "technical      2023\n",
       "support        1674\n",
       "IT              954\n",
       "product_mng     704\n",
       "RandD           666\n",
       "marketing       655\n",
       "accounting      563\n",
       "management      539\n",
       "hr              524\n",
       "Name: department, dtype: int64"
      ]
     },
     "execution_count": 32,
     "metadata": {},
     "output_type": "execute_result"
    }
   ],
   "source": [
    "hr.loc[hr['left'] == 0]['department'].value_counts()"
   ]
  },
  {
   "cell_type": "markdown",
   "id": "3d538c1a",
   "metadata": {},
   "source": [
    "Так как имеем дело с категориальными данным, то визуализация распределения сотрудников позарплатам можно изобоазить при помощи столбчатой диаграммы "
   ]
  },
  {
   "cell_type": "code",
   "execution_count": 33,
   "id": "f79a7cd0",
   "metadata": {},
   "outputs": [
    {
     "data": {
      "text/plain": [
       "Text(0.5, 1.0, 'Распределение сотрудников по зарплатам')"
      ]
     },
     "execution_count": 33,
     "metadata": {},
     "output_type": "execute_result"
    },
    {
     "data": {
      "image/png": "[encoded data removed]",
      "text/plain": [
       "<Figure size 640x480 with 1 Axes>"
      ]
     },
     "metadata": {},
     "output_type": "display_data"
    }
   ],
   "source": [
    "hr['salary'].value_counts().plot(kind='bar')\n",
    "plt.title('Распределение сотрудников по зарплатам')"
   ]
  },
  {
   "cell_type": "code",
   "execution_count": 34,
   "id": "a09fcd95",
   "metadata": {},
   "outputs": [
    {
     "data": {
      "image/png": "[encoded data removed]",
      "text/plain": [
       "<Figure size 640x480 with 1 Axes>"
      ]
     },
     "metadata": {},
     "output_type": "display_data"
    }
   ],
   "source": [
    "group = hr.groupby(['department', 'salary']).size().unstack()\n",
    "sort_departments = group.sum(axis=1).sort_values(ascending=False).index\n",
    "group_sort = group.loc[sort_departments]\n",
    "group_sort.plot(kind='bar', stacked=True)\n",
    "plt.xlabel('Department')\n",
    "plt.ylabel('Count')\n",
    "plt.title('Распределение сотрудников по зарплатам в каждом департаменте')\n",
    "plt.legend(title='Salary')\n",
    "plt.show()"
   ]
  },
  {
   "cell_type": "markdown",
   "id": "0f35ab35",
   "metadata": {},
   "source": [
    "Проверим гипотезу, что сотрудники с высоким окладом \n",
    "проводят на работе больше времени, чем сотрудники с низким\n",
    "окладом:   \n",
    "\n",
    "H0 - cотрудники с высоким окладом \n",
    "проводят на работе столько же времени, сколько и сотрудники с низким\n",
    "окладом.   \n",
    "H1 - сотрудники с высоким окладом \n",
    "проводят на работе больше времени, чем сотрудники с низким\n",
    "окладом."
   ]
  },
  {
   "cell_type": "code",
   "execution_count": 35,
   "id": "28cf031a",
   "metadata": {},
   "outputs": [
    {
     "data": {
      "text/plain": [
       "count    7316.000000\n",
       "mean      200.996583\n",
       "std        50.832214\n",
       "min        96.000000\n",
       "25%       155.000000\n",
       "50%       199.000000\n",
       "75%       246.000000\n",
       "max       310.000000\n",
       "Name: average_montly_hours, dtype: float64"
      ]
     },
     "execution_count": 35,
     "metadata": {},
     "output_type": "execute_result"
    }
   ],
   "source": [
    "low_salary = hr.loc[hr['salary'] == 'low']['average_montly_hours']\n",
    "low_salary.describe()"
   ]
  },
  {
   "cell_type": "code",
   "execution_count": 36,
   "id": "f68c9581",
   "metadata": {},
   "outputs": [
    {
     "data": {
      "text/plain": [
       "count    1237.000000\n",
       "mean      199.867421\n",
       "std        47.710446\n",
       "min        96.000000\n",
       "25%       161.000000\n",
       "50%       199.000000\n",
       "75%       241.000000\n",
       "max       307.000000\n",
       "Name: average_montly_hours, dtype: float64"
      ]
     },
     "execution_count": 36,
     "metadata": {},
     "output_type": "execute_result"
    }
   ],
   "source": [
    "high_salary = hr.loc[hr['salary'] == 'high']['average_montly_hours']\n",
    "high_salary.describe()"
   ]
  },
  {
   "cell_type": "code",
   "execution_count": 37,
   "id": "c6388321",
   "metadata": {},
   "outputs": [
    {
     "data": {
      "text/plain": [
       "Text(0.5, 1.0, 'Сравнение распределений среднего количества часов на рабочем месте в месяц')"
      ]
     },
     "execution_count": 37,
     "metadata": {},
     "output_type": "execute_result"
    },
    {
     "data": {
      "image/png": "[encoded data removed]",
      "text/plain": [
       "<Figure size 640x480 with 1 Axes>"
      ]
     },
     "metadata": {},
     "output_type": "display_data"
    }
   ],
   "source": [
    "low_salary.plot(kind='hist', \n",
    "                     alpha = 0.5,\n",
    "                     bins=20,\n",
    "                     density = True,\n",
    "                     label='low')\n",
    "\n",
    "high_salary.plot(kind='hist', \n",
    "                     alpha = 0.5,\n",
    "                     bins=20,\n",
    "                     density = True,\n",
    "                     label='high')\n",
    "plt.legend(loc='upper right')\n",
    "plt.title('Сравнение распределений среднего количества часов на рабочем месте в месяц')"
   ]
  },
  {
   "cell_type": "code",
   "execution_count": 38,
   "id": "1f94133a",
   "metadata": {},
   "outputs": [
    {
     "data": {
      "text/plain": [
       "Text(0, 0.5, 'Часы')"
      ]
     },
     "execution_count": 38,
     "metadata": {},
     "output_type": "execute_result"
    },
    {
     "data": {
      "image/png": "[encoded data removed]",
      "text/plain": [
       "<Figure size 640x480 with 1 Axes>"
      ]
     },
     "metadata": {},
     "output_type": "display_data"
    }
   ],
   "source": [
    "salary_time = pd.DataFrame({\n",
    "    'low' : low_salary,\n",
    "    'high' : high_salary\n",
    "})\n",
    "sns.boxplot(data=salary_time)\n",
    "plt.title('Сравнение среднего количества часов на рабочем месте в месяц')\n",
    "plt.ylabel('Часы')"
   ]
  },
  {
   "cell_type": "markdown",
   "id": "78cd48f3",
   "metadata": {},
   "source": [
    "Так как распределение явно не является нормальным и осутвуют выбросы можно использовать непараметрический тест Манна-Уитни."
   ]
  },
  {
   "cell_type": "code",
   "execution_count": 39,
   "id": "ac0be3ab",
   "metadata": {},
   "outputs": [
    {
     "name": "stdout",
     "output_type": "stream",
     "text": [
      "Статистика = 4542795.50000, p-value = 0.82413\n",
      "Не отклоняем нулевую гипотезу, распределения, вероятно, одинаковые.\n",
      "\n",
      "Вывод:\n",
      "Сотрудники с высоким окладом проводят на работе столько же времени, сколько и сотрудники с низким окладом.\n"
     ]
    }
   ],
   "source": [
    "stat, p_value = st.mannwhitneyu(low_salary, high_salary)\n",
    "\n",
    "print(f\"Статистика = {stat:.5f}, p-value = {p_value:.5f}\")\n",
    "\n",
    "if p_value > 0.05:\n",
    "    print('Не отклоняем нулевую гипотезу, распределения, вероятно, одинаковые.')\n",
    "    print()\n",
    "    print('Вывод:')\n",
    "    print('Сотрудники с высоким окладом проводят на работе столько же времени, сколько и сотрудники с низким окладом.')\n",
    "else:\n",
    "    print('Отклоняем нулевую гипотезу, распределения, вероятно, различаются.')\n",
    "    print()\n",
    "    print('Вывод:')\n",
    "    print('Сотрудники с высоким окладом проводят на работе больше времени, чем сотрудники с низким окладом.')"
   ]
  },
  {
   "cell_type": "markdown",
   "id": "8ca50efc",
   "metadata": {},
   "source": [
    "Показатели среди уволившихся и не уволившихся сотрудников:"
   ]
  },
  {
   "cell_type": "code",
   "execution_count": 40,
   "id": "758e89c3",
   "metadata": {},
   "outputs": [
    {
     "ename": "SyntaxError",
     "evalue": "invalid syntax (4125868638.py, line 1)",
     "output_type": "error",
     "traceback": [
      "\u001b[0;36m  Cell \u001b[0;32mIn[40], line 1\u001b[0;36m\u001b[0m\n\u001b[0;31m    hr.loc[]\u001b[0m\n\u001b[0m           ^\u001b[0m\n\u001b[0;31mSyntaxError\u001b[0m\u001b[0;31m:\u001b[0m invalid syntax\n"
     ]
    }
   ],
   "source": [
    "hr.loc[]"
   ]
  },
  {
   "cell_type": "code",
   "execution_count": null,
   "id": "5d514a1a",
   "metadata": {},
   "outputs": [],
   "source": [
    "def category_count(hr):\n",
    "    \n",
    "    list_index = ['Work_accident', 'left', 'promotion_last_5years', 'department', 'salary']\n",
    "    list_columns = ['mode', 'count', 'percentage']\n",
    "    list_tuple = [(index_, unique) for index_ in list_index for unique in hr[index_].unique()]\n",
    "    index_multi = pd.MultiIndex.from_tuples(list_tuple, names=['columns', 'unique'])\n",
    "    category_hr = pd.DataFrame(index=index_multi, columns=list_columns) \n",
    "    \n",
    "    for i in category_hr.index:\n",
    "        for columns in list_index:\n",
    "            for mode in hr[columns].mode():\n",
    "                if i[0] == columns and i[1] == mode:\n",
    "                    category_hr.loc[i, 'mode'] = True\n",
    "                elif category_hr.loc[i, 'mode'] != True:\n",
    "                    category_hr.loc[i, 'mode'] = False\n",
    "            for count in hr[columns].value_counts().index:\n",
    "                if i[0] == columns and count == i[1]:\n",
    "                    category_hr.loc[i, 'count'] = hr[columns].value_counts()[count]\n",
    "                    category_hr.loc[i, 'percentage'] = round(hr[columns].value_counts(normalize=True)[count], 2)\n",
    "\n",
    "    return category_hr"
   ]
  }
 ],
 "metadata": {
  "kernelspec": {
   "display_name": "Python 3 (ipykernel)",
   "language": "python",
   "name": "python3"
  },
  "language_info": {
   "codemirror_mode": {
    "name": "ipython",
    "version": 3
   },
   "file_extension": ".py",
   "mimetype": "text/x-python",
   "name": "python",
   "nbconvert_exporter": "python",
   "pygments_lexer": "ipython3",
   "version": "3.9.13"
  }
 },
 "nbformat": 4,
 "nbformat_minor": 5
}
